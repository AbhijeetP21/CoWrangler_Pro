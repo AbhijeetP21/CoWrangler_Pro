{
 "cells": [
  {
   "cell_type": "code",
   "execution_count": 1,
   "id": "259f900f-a791-4cb7-bf8e-3f6a78a90506",
   "metadata": {},
   "outputs": [],
   "source": [
    "import pandas as pd\n",
    "from sklearn.preprocessing import LabelEncoder"
   ]
  },
  {
   "cell_type": "code",
   "execution_count": 2,
   "id": "b87e167f-a695-491a-bbd6-903c5f40df24",
   "metadata": {},
   "outputs": [],
   "source": [
    "df = pd.read_csv('regression_unclean.csv')"
   ]
  },
  {
   "cell_type": "code",
   "execution_count": 3,
   "id": "c3b461df-ff52-4e99-bf5f-0aecc63c9d78",
   "metadata": {},
   "outputs": [],
   "source": [
    "split_cols = df['FlightDate'].str.split('-', expand=True)\n",
    "split_cols.columns = ['FlightDate_1', 'FlightDate_2', 'FlightDate_3']\n",
    "df = df.drop(columns=['FlightDate']).join(split_cols)"
   ]
  },
  {
   "cell_type": "code",
   "execution_count": 7,
   "id": "0042f0f5-5c53-4c6f-8c1a-8ae7a028b699",
   "metadata": {},
   "outputs": [],
   "source": [
    "le = LabelEncoder()\n",
    "df['FlightDate_2'] = le.fit_transform(df['FlightDate_2'])"
   ]
  },
  {
   "cell_type": "code",
   "execution_count": 8,
   "id": "52cf838a-e99d-487c-80f2-801a0ff7a2b5",
   "metadata": {},
   "outputs": [],
   "source": [
    "df = df.drop(columns = ['FlightDate_1'])"
   ]
  },
  {
   "cell_type": "code",
   "execution_count": 10,
   "id": "28d2a3f5-3e04-42d2-99d4-29d4630c6fff",
   "metadata": {},
   "outputs": [],
   "source": [
    "split_cols = df['Airline'].str.split(' ', expand=True)\n",
    "split_cols.columns = ['Airline_1', 'Airline_2', 'Airline_3', 'Airline_4', 'Airline_5', 'Airline_6']\n",
    "df = df.drop(columns=['Airline']).join(split_cols)"
   ]
  },
  {
   "cell_type": "code",
   "execution_count": 11,
   "id": "161c2b28-86f3-4278-a4f8-1f7a28fe2c40",
   "metadata": {},
   "outputs": [],
   "source": [
    "df = df.drop(columns = ['Airline_6'])\n",
    "df = df.drop(columns = ['Airline_4'])\n",
    "df = df.drop(columns = ['Airline_5'])"
   ]
  },
  {
   "cell_type": "code",
   "execution_count": 12,
   "id": "0b6a3ea9-dfec-4b6c-9d99-88eefa79758b",
   "metadata": {},
   "outputs": [],
   "source": [
    "df['Airline_2'] = le.fit_transform(df['Airline_2'])"
   ]
  },
  {
   "cell_type": "code",
   "execution_count": 13,
   "id": "bf4d05f4-bb8a-4eeb-a5ff-590c9599aa04",
   "metadata": {},
   "outputs": [],
   "source": [
    "df['Airline_3'] = le.fit_transform(df['Airline_3'])"
   ]
  },
  {
   "cell_type": "code",
   "execution_count": 14,
   "id": "6f72928c-ade6-4c1c-8395-5450c77621af",
   "metadata": {},
   "outputs": [],
   "source": [
    "df['DepDel15'] = df['DepDel15'].astype('Int64')\n",
    "df['DepDel15'] = df['DepDel15'].astype(bool)\n",
    "df['DepartureDelayGroups'] = df['DepartureDelayGroups'].astype('Int64')\n",
    "df['AirTime'] = df['AirTime'].astype('Int64')\n",
    "df['ArrDelayMinutes'] = df['ArrDelayMinutes'].astype('Int64')"
   ]
  },
  {
   "cell_type": "code",
   "execution_count": 15,
   "id": "a34a8bf4-2793-4d71-a81b-ab7a47a4a8a4",
   "metadata": {},
   "outputs": [],
   "source": [
    "df.to_csv('regression_unclean_output.csv', index=False)"
   ]
  },
  {
   "cell_type": "code",
   "execution_count": null,
   "id": "915b197b-4357-4a7a-b454-9e1246fdc74a",
   "metadata": {},
   "outputs": [],
   "source": []
  }
 ],
 "metadata": {
  "kernelspec": {
   "display_name": "Python 3 (ipykernel)",
   "language": "python",
   "name": "python3"
  },
  "language_info": {
   "codemirror_mode": {
    "name": "ipython",
    "version": 3
   },
   "file_extension": ".py",
   "mimetype": "text/x-python",
   "name": "python",
   "nbconvert_exporter": "python",
   "pygments_lexer": "ipython3",
   "version": "3.8.20"
  }
 },
 "nbformat": 4,
 "nbformat_minor": 5
}
