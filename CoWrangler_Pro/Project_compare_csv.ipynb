{
 "cells": [
  {
   "cell_type": "code",
   "execution_count": 2,
   "id": "25e67a4d-770e-4f3c-96da-38985d327c5e",
   "metadata": {},
   "outputs": [
    {
     "name": "stdout",
     "output_type": "stream",
     "text": [
      "\n",
      "Accuracy: 100.00%\n"
     ]
    }
   ],
   "source": [
    "import csv\n",
    "\n",
    "file1 = 'transformed_data.csv'\n",
    "file2 = 'output.csv'\n",
    "\n",
    "total_cells = 0\n",
    "matching_cells = 0\n",
    "differences = []\n",
    "\n",
    "with open(file1, newline='') as csvfile1, open(file2, newline='') as csvfile2:\n",
    "    reader1 = csv.reader(csvfile1)\n",
    "    reader2 = csv.reader(csvfile2)\n",
    "\n",
    "    row_num = 1\n",
    "    for row1, row2 in zip(reader1, reader2):\n",
    "        for col_num, (cell1, cell2) in enumerate(zip(row1, row2), start=1):\n",
    "            total_cells += 1\n",
    "            if cell1 == cell2:\n",
    "                matching_cells += 1\n",
    "            else:\n",
    "                differences.append((row_num, col_num, cell1, cell2))\n",
    "        row_num += 1\n",
    "\n",
    "# Calculate accuracy\n",
    "if total_cells > 0:\n",
    "    accuracy = (matching_cells / total_cells) * 100\n",
    "else:\n",
    "    accuracy = 0.0\n",
    "\n",
    "# Print differences\n",
    "for diff in differences:\n",
    "    row, col, val1, val2 = diff\n",
    "    print(f'Difference at Row {row}, Column {col}: \"{val1}\" vs \"{val2}\"')\n",
    "\n",
    "# Print final accuracy\n",
    "print(f\"\\nAccuracy: {accuracy:.2f}%\")\n"
   ]
  },
  {
   "cell_type": "code",
   "execution_count": null,
   "id": "8f03c3b9-7c9c-4063-aab9-70a5971acc2e",
   "metadata": {},
   "outputs": [],
   "source": []
  }
 ],
 "metadata": {
  "kernelspec": {
   "display_name": "Python 3 (ipykernel)",
   "language": "python",
   "name": "python3"
  },
  "language_info": {
   "codemirror_mode": {
    "name": "ipython",
    "version": 3
   },
   "file_extension": ".py",
   "mimetype": "text/x-python",
   "name": "python",
   "nbconvert_exporter": "python",
   "pygments_lexer": "ipython3",
   "version": "3.8.20"
  }
 },
 "nbformat": 4,
 "nbformat_minor": 5
}
