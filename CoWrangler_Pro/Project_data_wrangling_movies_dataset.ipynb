{
 "cells": [
  {
   "cell_type": "code",
   "execution_count": 12,
   "id": "990f957a-8844-4a2a-9380-688ad49f4b63",
   "metadata": {},
   "outputs": [],
   "source": [
    "import pandas as pd\n",
    "from sklearn.preprocessing import LabelEncoder"
   ]
  },
  {
   "cell_type": "code",
   "execution_count": 13,
   "id": "3d1fb854-fadc-47a7-ba4f-ed864dae6c2f",
   "metadata": {},
   "outputs": [],
   "source": [
    "df = pd.read_csv('movies.csv')"
   ]
  },
  {
   "cell_type": "code",
   "execution_count": 14,
   "id": "2ab27f0c-9e9c-453a-93c1-982baf603598",
   "metadata": {},
   "outputs": [],
   "source": [
    "le = LabelEncoder()"
   ]
  },
  {
   "cell_type": "code",
   "execution_count": 15,
   "id": "9b0b6b93-6499-4093-a2f9-6a2b9d0feb88",
   "metadata": {},
   "outputs": [],
   "source": [
    "df['Gross'] = df['Gross'].fillna(df['Gross'].mode().iloc[0])"
   ]
  },
  {
   "cell_type": "code",
   "execution_count": 16,
   "id": "d921b6f8-bc5f-4c88-83da-5f04d890e25e",
   "metadata": {},
   "outputs": [],
   "source": [
    "df['RunTime'] = df['RunTime'].astype('Int64')\n",
    "df['RATING'] = df['RATING'].round().astype('Int64')"
   ]
  },
  {
   "cell_type": "code",
   "execution_count": 17,
   "id": "c2d8070f-a725-4025-873e-d0cc4ed50451",
   "metadata": {},
   "outputs": [],
   "source": [
    "split_cols = df['GENRE'].str.split(' ', expand=True)\n",
    "split_cols.columns = ['GENRE_1', 'GENRE_2', 'GENRE_3', 'GENRE_4', 'GENRE_5', 'GENRE_6', 'GENRE_7', 'GENRE_8', 'GENRE_9', 'GENRE_10', 'GENRE_11', 'GENRE_12', 'GENRE_13', 'GENRE_14', 'GENRE_15']\n",
    "df = df.drop(columns=['GENRE']).join(split_cols)"
   ]
  },
  {
   "cell_type": "code",
   "execution_count": 18,
   "id": "71c8af4d-2709-449c-882e-2a6ddba8a10b",
   "metadata": {},
   "outputs": [],
   "source": [
    "split_cols = df['GENRE_1'].str.split(',', expand=True)\n",
    "split_cols.columns = ['GENRE_1_1', 'GENRE_1_2']\n",
    "df = df.drop(columns=['GENRE_1']).join(split_cols)"
   ]
  },
  {
   "cell_type": "code",
   "execution_count": 19,
   "id": "756e3616-f8dc-45ab-9314-2014e9096b60",
   "metadata": {},
   "outputs": [],
   "source": [
    "split_cols = df['GENRE_2'].str.split(',', expand=True)\n",
    "split_cols.columns = ['GENRE_2_1', 'GENRE_2_2']\n",
    "df = df.drop(columns=['GENRE_2']).join(split_cols)\n"
   ]
  },
  {
   "cell_type": "code",
   "execution_count": 20,
   "id": "6c304425-d4ea-4990-92bd-16eea32aec1a",
   "metadata": {},
   "outputs": [],
   "source": [
    "split_cols = df['VOTES'].str.split(',', expand=True)\n",
    "split_cols.columns = ['VOTES_1', 'VOTES_2', 'VOTES_3']\n",
    "df = df.drop(columns=['VOTES']).join(split_cols)\n"
   ]
  },
  {
   "cell_type": "code",
   "execution_count": 21,
   "id": "7020de4d-01ce-421a-ac6a-02db7816778b",
   "metadata": {},
   "outputs": [],
   "source": [
    "df['VOTES_3'] = df['VOTES_3'].fillna(df['VOTES_3'].mode().iloc[0])\n",
    "df['VOTES_2'] = df['VOTES_2'].fillna(df['VOTES_2'].mode().iloc[0])\n"
   ]
  },
  {
   "cell_type": "code",
   "execution_count": 22,
   "id": "4e9cb4e2-6ae6-4640-a96e-9ec95c479cf4",
   "metadata": {},
   "outputs": [],
   "source": [
    "df['VOTES_3'] = df['VOTES_3'].astype('category')\n"
   ]
  },
  {
   "cell_type": "code",
   "execution_count": 23,
   "id": "60be36eb-6328-472e-9aa3-243ef77f3465",
   "metadata": {},
   "outputs": [],
   "source": [
    "df['VOTES_3'] = le.fit_transform(df['VOTES_3'])"
   ]
  },
  {
   "cell_type": "code",
   "execution_count": 25,
   "id": "e81e7653-80cc-4f1f-9c5e-402ea0eeabae",
   "metadata": {},
   "outputs": [],
   "source": [
    "split_cols = df['MOVIES'].str.split(' ', expand=True)\n",
    "split_cols.columns = ['MOVIES_1', 'MOVIES_2', 'MOVIES_3', 'MOVIES_4', 'MOVIES_5', 'MOVIES_6', 'MOVIES_7', 'MOVIES_8', 'MOVIES_9', 'MOVIES_10', 'MOVIES_11', 'MOVIES_12', 'MOVIES_13', 'MOVIES_14', 'MOVIES_15', 'MOVIES_16', 'MOVIES_17']\n",
    "df = df.drop(columns=['MOVIES']).join(split_cols)"
   ]
  },
  {
   "cell_type": "code",
   "execution_count": 26,
   "id": "4d8d630a-3322-410f-b139-20499677ced8",
   "metadata": {},
   "outputs": [],
   "source": [
    "df = df.drop(columns = ['MOVIES_14'])\n",
    "df = df.drop(columns = ['MOVIES_13'])\n",
    "df = df.drop(columns = ['MOVIES_12'])\n",
    "df = df.drop(columns = ['MOVIES_11'])\n",
    "df = df.drop(columns = ['MOVIES_10'])\n",
    "df = df.drop(columns = ['MOVIES_15'])\n",
    "df = df.drop(columns = ['MOVIES_9'])\n",
    "df = df.drop(columns = ['MOVIES_8'])\n",
    "df = df.drop(columns = ['MOVIES_7'])\n",
    "df = df.drop(columns = ['MOVIES_16'])\n",
    "df = df.drop(columns = ['MOVIES_17'])\n",
    "df = df.drop(columns = ['MOVIES_5'])\n",
    "df = df.drop(columns = ['MOVIES_4'])\n",
    "df = df.drop(columns = ['MOVIES_6'])"
   ]
  },
  {
   "cell_type": "code",
   "execution_count": null,
   "id": "c6d5ce6d-b566-43ff-bf34-8ffa2226943d",
   "metadata": {},
   "outputs": [],
   "source": [
    "df.to_csv('movies_output.csv', index=False)"
   ]
  }
 ],
 "metadata": {
  "kernelspec": {
   "display_name": "Python 3 (ipykernel)",
   "language": "python",
   "name": "python3"
  },
  "language_info": {
   "codemirror_mode": {
    "name": "ipython",
    "version": 3
   },
   "file_extension": ".py",
   "mimetype": "text/x-python",
   "name": "python",
   "nbconvert_exporter": "python",
   "pygments_lexer": "ipython3",
   "version": "3.8.20"
  }
 },
 "nbformat": 4,
 "nbformat_minor": 5
}
