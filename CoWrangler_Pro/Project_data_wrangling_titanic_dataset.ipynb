{
 "cells": [
  {
   "cell_type": "code",
   "execution_count": 3,
   "id": "59a851e3-0b46-4cff-8e13-5e38fab19e43",
   "metadata": {},
   "outputs": [],
   "source": [
    "import pandas as pd"
   ]
  },
  {
   "cell_type": "code",
   "execution_count": 4,
   "id": "d2c3074a-6f7b-409b-af7b-69bd72e22afb",
   "metadata": {},
   "outputs": [],
   "source": [
    "df = pd.read_csv('train.csv')"
   ]
  },
  {
   "cell_type": "code",
   "execution_count": 5,
   "id": "f86a8faa-0537-4533-a2a3-a6d688e973f7",
   "metadata": {},
   "outputs": [],
   "source": [
    "df = df.drop(columns = ['Cabin'])"
   ]
  },
  {
   "cell_type": "code",
   "execution_count": 6,
   "id": "b4264c1c-490a-4846-b3d6-899b1e0965df",
   "metadata": {},
   "outputs": [],
   "source": [
    "df['Age'] = df['Age'].round().astype('Int64')\n",
    "df['Fare'] = df['Fare'].round().astype('Int64')"
   ]
  },
  {
   "cell_type": "code",
   "execution_count": 7,
   "id": "9eee78e7-242b-492d-83bd-ddb762dd8516",
   "metadata": {},
   "outputs": [],
   "source": [
    "from sklearn.preprocessing import LabelEncoder\n",
    "le = LabelEncoder()\n",
    "df['Embarked'] = le.fit_transform(df['Embarked'])"
   ]
  },
  {
   "cell_type": "code",
   "execution_count": 9,
   "id": "31190f37-5bf7-4bdd-a9d9-b909e609a400",
   "metadata": {},
   "outputs": [],
   "source": [
    "split_cols = df['Name'].str.split(' ', expand=True)\n",
    "split_cols.columns = ['Name_1', 'Name_2', 'Name_3', 'Name_4', 'Name_5', 'Name_6', 'Name_7', 'Name_8', 'Name_9', 'Name_10', 'Name_11', 'Name_12', 'Name_13', 'Name_14']\n",
    "df = df.drop(columns=['Name']).join(split_cols)"
   ]
  },
  {
   "cell_type": "code",
   "execution_count": 10,
   "id": "b91f9e08-1561-4058-8d01-7b9344118cfb",
   "metadata": {},
   "outputs": [],
   "source": [
    "df = df.drop(columns = ['Name_10'])\n",
    "df = df.drop(columns = ['Name_11'])\n",
    "df = df.drop(columns = ['Name_9'])\n",
    "df = df.drop(columns = ['Name_8'])\n",
    "df = df.drop(columns = ['Name_7'])\n",
    "df = df.drop(columns = ['Name_12'])\n",
    "df = df.drop(columns = ['Name_6'])\n",
    "df = df.drop(columns = ['Name_5'])\n",
    "df = df.drop(columns = ['Name_13'])\n",
    "df = df.drop(columns = ['Name_14'])"
   ]
  },
  {
   "cell_type": "code",
   "execution_count": 11,
   "id": "728e175a-e2dc-4009-9c6e-05937226fb07",
   "metadata": {},
   "outputs": [],
   "source": [
    "split_cols = df['Name_1'].str.split(',', expand=True)\n",
    "split_cols.columns = ['Name_1_1', 'Name_1_2']\n",
    "df = df.drop(columns=['Name_1']).join(split_cols)"
   ]
  },
  {
   "cell_type": "code",
   "execution_count": 12,
   "id": "2546766d-f78c-4b23-aa6e-dfdd4166fa41",
   "metadata": {},
   "outputs": [],
   "source": [
    "from sklearn.preprocessing import LabelEncoder\n",
    "le = LabelEncoder()\n",
    "df['Sex'] = le.fit_transform(df['Sex'])"
   ]
  },
  {
   "cell_type": "code",
   "execution_count": 13,
   "id": "8567daef-0bf0-4e87-83ed-3e8549566e7e",
   "metadata": {},
   "outputs": [],
   "source": [
    "df['Survived'] = df['Survived'].astype(bool)\n",
    "df['Sex'] = df['Sex'].astype(bool)\n"
   ]
  },
  {
   "cell_type": "code",
   "execution_count": 14,
   "id": "ebead587-000e-4781-a123-aa1cf0d1643d",
   "metadata": {},
   "outputs": [],
   "source": [
    "df.to_csv('output.csv', index=False)"
   ]
  },
  {
   "cell_type": "code",
   "execution_count": null,
   "id": "55a47f30-d6a0-4cf2-a64c-8540c473733b",
   "metadata": {},
   "outputs": [],
   "source": []
  }
 ],
 "metadata": {
  "kernelspec": {
   "display_name": "Python 3 (ipykernel)",
   "language": "python",
   "name": "python3"
  },
  "language_info": {
   "codemirror_mode": {
    "name": "ipython",
    "version": 3
   },
   "file_extension": ".py",
   "mimetype": "text/x-python",
   "name": "python",
   "nbconvert_exporter": "python",
   "pygments_lexer": "ipython3",
   "version": "3.8.20"
  }
 },
 "nbformat": 4,
 "nbformat_minor": 5
}
